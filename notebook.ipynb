{
 "cells": [
  {
   "cell_type": "code",
   "execution_count": 16,
   "id": "e56be1e5",
   "metadata": {},
   "outputs": [],
   "source": [
    "import duckdb\n",
    "import pandas as pd"
   ]
  },
  {
   "cell_type": "code",
   "execution_count": 17,
   "id": "ef80bbdd",
   "metadata": {},
   "outputs": [],
   "source": [
    "connection_database = duckdb.connect(database='city_bike.db')"
   ]
  },
  {
   "cell_type": "code",
   "execution_count": 18,
   "id": "3f0f6596",
   "metadata": {},
   "outputs": [],
   "source": [
    "df_trip = pd.read_csv(\"./datasets/trip.csv\", sep=\",\", on_bad_lines='skip')\n",
    "df_station = pd.read_csv(\"./datasets/station.csv\", sep=\",\")\n",
    "df_weather = pd.read_csv(\"./datasets/weather.csv\", sep=\",\")"
   ]
  },
  {
   "cell_type": "code",
   "execution_count": 1,
   "id": "23457511",
   "metadata": {},
   "outputs": [
    {
     "ename": "NameError",
     "evalue": "name 'connection_database' is not defined",
     "output_type": "error",
     "traceback": [
      "\u001b[1;31m---------------------------------------------------------------------------\u001b[0m",
      "\u001b[1;31mNameError\u001b[0m                                 Traceback (most recent call last)",
      "Cell \u001b[1;32mIn[1], line 1\u001b[0m\n\u001b[1;32m----> 1\u001b[0m \u001b[43mconnection_database\u001b[49m\u001b[38;5;241m.\u001b[39mregister(\u001b[38;5;124m\"\u001b[39m\u001b[38;5;124mtrip_df\u001b[39m\u001b[38;5;124m\"\u001b[39m, df_trip)\n\u001b[0;32m      2\u001b[0m connection_database\u001b[38;5;241m.\u001b[39mregister(\u001b[38;5;124m\"\u001b[39m\u001b[38;5;124mstation_df\u001b[39m\u001b[38;5;124m\"\u001b[39m, df_station)\n\u001b[0;32m      3\u001b[0m connection_database\u001b[38;5;241m.\u001b[39mregister(\u001b[38;5;124m\"\u001b[39m\u001b[38;5;124mweather_df\u001b[39m\u001b[38;5;124m\"\u001b[39m, df_weather)\n",
      "\u001b[1;31mNameError\u001b[0m: name 'connection_database' is not defined"
     ]
    }
   ],
   "source": [
    "connection_database.register(\"trip_df\", df_trip)\n",
    "connection_database.register(\"station_df\", df_station)\n",
    "connection_database.register(\"weather_df\", df_weather)"
   ]
  },
  {
   "cell_type": "code",
   "execution_count": 21,
   "id": "06191779",
   "metadata": {},
   "outputs": [
    {
     "data": {
      "text/plain": [
       "<duckdb.duckdb.DuckDBPyConnection at 0x22307d438b0>"
      ]
     },
     "execution_count": 21,
     "metadata": {},
     "output_type": "execute_result"
    }
   ],
   "source": [
    "connection_database.execute(\"CREATE TABLE trip AS SELECT * FROM trip_df\")\n",
    "connection_database.execute(\"CREATE TABLE station AS SELECT * FROM station_df\")\n",
    "connection_database.execute(\"CREATE TABLE weather AS SELECT * FROM weather_df\")"
   ]
  }
 ],
 "metadata": {
  "kernelspec": {
   "display_name": ".venv",
   "language": "python",
   "name": "python3"
  },
  "language_info": {
   "codemirror_mode": {
    "name": "ipython",
    "version": 3
   },
   "file_extension": ".py",
   "mimetype": "text/x-python",
   "name": "python",
   "nbconvert_exporter": "python",
   "pygments_lexer": "ipython3",
   "version": "3.10.11"
  }
 },
 "nbformat": 4,
 "nbformat_minor": 5
}
